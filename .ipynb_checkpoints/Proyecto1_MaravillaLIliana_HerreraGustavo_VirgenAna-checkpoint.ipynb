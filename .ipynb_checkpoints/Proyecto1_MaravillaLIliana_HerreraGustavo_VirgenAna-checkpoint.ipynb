{
 "cells": [
  {
   "cell_type": "markdown",
   "metadata": {},
   "source": [
    "<h1 style=\"color:green\"> PROYECTO 1. </h1>\n",
    " \n",
    " \n",
    " ![Alt text](http://2.bp.blogspot.com/-A8weG5rBCEI/TZdXyKVAFrI/AAAAAAAAALU/3VK8JH0leSU/s1600/1.jpg)"
   ]
  },
  {
   "cell_type": "code",
   "execution_count": null,
   "metadata": {},
   "outputs": [],
   "source": [
    "import numpy as np\n",
    "import matplotlib.pyplot as plt\n",
    "%matplotlib inline"
   ]
  },
  {
   "cell_type": "code",
   "execution_count": 70,
   "metadata": {},
   "outputs": [],
   "source": [
    "import pandas as pd"
   ]
  },
  {
   "cell_type": "code",
   "execution_count": 71,
   "metadata": {},
   "outputs": [
    {
     "data": {
      "text/html": [
       "<div>\n",
       "<style scoped>\n",
       "    .dataframe tbody tr th:only-of-type {\n",
       "        vertical-align: middle;\n",
       "    }\n",
       "\n",
       "    .dataframe tbody tr th {\n",
       "        vertical-align: top;\n",
       "    }\n",
       "\n",
       "    .dataframe thead th {\n",
       "        text-align: right;\n",
       "    }\n",
       "</style>\n",
       "<table border=\"1\" class=\"dataframe\">\n",
       "  <thead>\n",
       "    <tr style=\"text-align: right;\">\n",
       "      <th></th>\n",
       "      <th>0</th>\n",
       "      <th>1</th>\n",
       "    </tr>\n",
       "  </thead>\n",
       "  <tbody>\n",
       "    <tr>\n",
       "      <th>0</th>\n",
       "      <td>1970</td>\n",
       "      <td>56500.0000</td>\n",
       "    </tr>\n",
       "    <tr>\n",
       "      <th>1</th>\n",
       "      <td>1971</td>\n",
       "      <td>49600.0000</td>\n",
       "    </tr>\n",
       "    <tr>\n",
       "      <th>2</th>\n",
       "      <td>1972</td>\n",
       "      <td>64800.0000</td>\n",
       "    </tr>\n",
       "    <tr>\n",
       "      <th>3</th>\n",
       "      <td>1973</td>\n",
       "      <td>91200.0000</td>\n",
       "    </tr>\n",
       "    <tr>\n",
       "      <th>4</th>\n",
       "      <td>1974</td>\n",
       "      <td>101600.0000</td>\n",
       "    </tr>\n",
       "    <tr>\n",
       "      <th>5</th>\n",
       "      <td>1975</td>\n",
       "      <td>112100.0000</td>\n",
       "    </tr>\n",
       "    <tr>\n",
       "      <th>6</th>\n",
       "      <td>1976</td>\n",
       "      <td>115300.0000</td>\n",
       "    </tr>\n",
       "    <tr>\n",
       "      <th>7</th>\n",
       "      <td>1977</td>\n",
       "      <td>111900.0000</td>\n",
       "    </tr>\n",
       "    <tr>\n",
       "      <th>8</th>\n",
       "      <td>1978</td>\n",
       "      <td>115200.0000</td>\n",
       "    </tr>\n",
       "    <tr>\n",
       "      <th>9</th>\n",
       "      <td>1979</td>\n",
       "      <td>129300.0000</td>\n",
       "    </tr>\n",
       "    <tr>\n",
       "      <th>10</th>\n",
       "      <td>1980</td>\n",
       "      <td>177100.0000</td>\n",
       "    </tr>\n",
       "    <tr>\n",
       "      <th>11</th>\n",
       "      <td>1981</td>\n",
       "      <td>151800.0000</td>\n",
       "    </tr>\n",
       "    <tr>\n",
       "      <th>12</th>\n",
       "      <td>1982</td>\n",
       "      <td>144800.0000</td>\n",
       "    </tr>\n",
       "    <tr>\n",
       "      <th>13</th>\n",
       "      <td>1983</td>\n",
       "      <td>202300.0000</td>\n",
       "    </tr>\n",
       "    <tr>\n",
       "      <th>14</th>\n",
       "      <td>1984</td>\n",
       "      <td>200700.0000</td>\n",
       "    </tr>\n",
       "    <tr>\n",
       "      <th>15</th>\n",
       "      <td>1985</td>\n",
       "      <td>204600.0000</td>\n",
       "    </tr>\n",
       "    <tr>\n",
       "      <th>16</th>\n",
       "      <td>1986</td>\n",
       "      <td>187100.0000</td>\n",
       "    </tr>\n",
       "    <tr>\n",
       "      <th>17</th>\n",
       "      <td>1987</td>\n",
       "      <td>189000.0000</td>\n",
       "    </tr>\n",
       "    <tr>\n",
       "      <th>18</th>\n",
       "      <td>1988</td>\n",
       "      <td>141400.0000</td>\n",
       "    </tr>\n",
       "    <tr>\n",
       "      <th>19</th>\n",
       "      <td>1989</td>\n",
       "      <td>152200.0000</td>\n",
       "    </tr>\n",
       "    <tr>\n",
       "      <th>20</th>\n",
       "      <td>1990</td>\n",
       "      <td>177300.0000</td>\n",
       "    </tr>\n",
       "    <tr>\n",
       "      <th>21</th>\n",
       "      <td>1991</td>\n",
       "      <td>189300.0000</td>\n",
       "    </tr>\n",
       "    <tr>\n",
       "      <th>22</th>\n",
       "      <td>1992</td>\n",
       "      <td>228400.0000</td>\n",
       "    </tr>\n",
       "    <tr>\n",
       "      <th>23</th>\n",
       "      <td>1993</td>\n",
       "      <td>246600.0000</td>\n",
       "    </tr>\n",
       "    <tr>\n",
       "      <th>24</th>\n",
       "      <td>1994</td>\n",
       "      <td>272100.0000</td>\n",
       "    </tr>\n",
       "    <tr>\n",
       "      <th>25</th>\n",
       "      <td>1995</td>\n",
       "      <td>225100.0000</td>\n",
       "    </tr>\n",
       "    <tr>\n",
       "      <th>26</th>\n",
       "      <td>1996</td>\n",
       "      <td>222700.0000</td>\n",
       "    </tr>\n",
       "    <tr>\n",
       "      <th>27</th>\n",
       "      <td>1997</td>\n",
       "      <td>264100.0000</td>\n",
       "    </tr>\n",
       "    <tr>\n",
       "      <th>28</th>\n",
       "      <td>1998</td>\n",
       "      <td>292100.0000</td>\n",
       "    </tr>\n",
       "    <tr>\n",
       "      <th>29</th>\n",
       "      <td>1999</td>\n",
       "      <td>328300.0000</td>\n",
       "    </tr>\n",
       "    <tr>\n",
       "      <th>30</th>\n",
       "      <td>2000</td>\n",
       "      <td>290412.0000</td>\n",
       "    </tr>\n",
       "    <tr>\n",
       "      <th>31</th>\n",
       "      <td>2001</td>\n",
       "      <td>292208.0000</td>\n",
       "    </tr>\n",
       "    <tr>\n",
       "      <th>32</th>\n",
       "      <td>2002</td>\n",
       "      <td>278456.0000</td>\n",
       "    </tr>\n",
       "    <tr>\n",
       "      <th>33</th>\n",
       "      <td>2003</td>\n",
       "      <td>287017.0000</td>\n",
       "    </tr>\n",
       "    <tr>\n",
       "      <th>34</th>\n",
       "      <td>2004</td>\n",
       "      <td>330441.0000</td>\n",
       "    </tr>\n",
       "    <tr>\n",
       "      <th>35</th>\n",
       "      <td>2005</td>\n",
       "      <td>331225.0000</td>\n",
       "    </tr>\n",
       "    <tr>\n",
       "      <th>36</th>\n",
       "      <td>2006</td>\n",
       "      <td>317856.0000</td>\n",
       "    </tr>\n",
       "    <tr>\n",
       "      <th>37</th>\n",
       "      <td>2007</td>\n",
       "      <td>309633.0000</td>\n",
       "    </tr>\n",
       "    <tr>\n",
       "      <th>38</th>\n",
       "      <td>2008</td>\n",
       "      <td>266244.0000</td>\n",
       "    </tr>\n",
       "    <tr>\n",
       "      <th>39</th>\n",
       "      <td>2009</td>\n",
       "      <td>222356.0000</td>\n",
       "    </tr>\n",
       "    <tr>\n",
       "      <th>40</th>\n",
       "      <td>2010</td>\n",
       "      <td>445796.0330</td>\n",
       "    </tr>\n",
       "    <tr>\n",
       "      <th>41</th>\n",
       "      <td>2011</td>\n",
       "      <td>386063.9941</td>\n",
       "    </tr>\n",
       "    <tr>\n",
       "      <th>42</th>\n",
       "      <td>2012</td>\n",
       "      <td>415279.8230</td>\n",
       "    </tr>\n",
       "    <tr>\n",
       "      <th>43</th>\n",
       "      <td>2013</td>\n",
       "      <td>435792.0900</td>\n",
       "    </tr>\n",
       "    <tr>\n",
       "      <th>44</th>\n",
       "      <td>2014</td>\n",
       "      <td>457921.9070</td>\n",
       "    </tr>\n",
       "    <tr>\n",
       "      <th>45</th>\n",
       "      <td>2015</td>\n",
       "      <td>508614.0000</td>\n",
       "    </tr>\n",
       "    <tr>\n",
       "      <th>46</th>\n",
       "      <td>2016</td>\n",
       "      <td>555984.0000</td>\n",
       "    </tr>\n",
       "    <tr>\n",
       "      <th>47</th>\n",
       "      <td>2017</td>\n",
       "      <td>567879.0000</td>\n",
       "    </tr>\n",
       "  </tbody>\n",
       "</table>\n",
       "</div>"
      ],
      "text/plain": [
       "       0            1\n",
       "0   1970   56500.0000\n",
       "1   1971   49600.0000\n",
       "2   1972   64800.0000\n",
       "3   1973   91200.0000\n",
       "4   1974  101600.0000\n",
       "5   1975  112100.0000\n",
       "6   1976  115300.0000\n",
       "7   1977  111900.0000\n",
       "8   1978  115200.0000\n",
       "9   1979  129300.0000\n",
       "10  1980  177100.0000\n",
       "11  1981  151800.0000\n",
       "12  1982  144800.0000\n",
       "13  1983  202300.0000\n",
       "14  1984  200700.0000\n",
       "15  1985  204600.0000\n",
       "16  1986  187100.0000\n",
       "17  1987  189000.0000\n",
       "18  1988  141400.0000\n",
       "19  1989  152200.0000\n",
       "20  1990  177300.0000\n",
       "21  1991  189300.0000\n",
       "22  1992  228400.0000\n",
       "23  1993  246600.0000\n",
       "24  1994  272100.0000\n",
       "25  1995  225100.0000\n",
       "26  1996  222700.0000\n",
       "27  1997  264100.0000\n",
       "28  1998  292100.0000\n",
       "29  1999  328300.0000\n",
       "30  2000  290412.0000\n",
       "31  2001  292208.0000\n",
       "32  2002  278456.0000\n",
       "33  2003  287017.0000\n",
       "34  2004  330441.0000\n",
       "35  2005  331225.0000\n",
       "36  2006  317856.0000\n",
       "37  2007  309633.0000\n",
       "38  2008  266244.0000\n",
       "39  2009  222356.0000\n",
       "40  2010  445796.0330\n",
       "41  2011  386063.9941\n",
       "42  2012  415279.8230\n",
       "43  2013  435792.0900\n",
       "44  2014  457921.9070\n",
       "45  2015  508614.0000\n",
       "46  2016  555984.0000\n",
       "47  2017  567879.0000"
      ]
     },
     "execution_count": 71,
     "metadata": {},
     "output_type": "execute_result"
    }
   ],
   "source": [
    "file= 'DATOS.csv'\n",
    "data= pd.read_csv(file, header=None)\n",
    "data"
   ]
  },
  {
   "cell_type": "code",
   "execution_count": 72,
   "metadata": {},
   "outputs": [],
   "source": [
    "import numpy as np\n",
    "import scipy.optimize as opt\n"
   ]
  },
  {
   "cell_type": "code",
   "execution_count": 98,
   "metadata": {},
   "outputs": [],
   "source": [
    "x = data.iloc[:,0].values/(1e4)\n",
    "y = data.iloc[:,1].values/(1e6)\n"
   ]
  },
  {
   "cell_type": "code",
   "execution_count": 99,
   "metadata": {},
   "outputs": [],
   "source": [
    "def fun_obj(b, x, y, n):\n",
    "    return np.sum((y-b.dot([x**i for i in range(n+1)]))**2)"
   ]
  },
  {
   "cell_type": "code",
   "execution_count": 100,
   "metadata": {},
   "outputs": [],
   "source": [
    "b01 = np.zeros(2)\n",
    "ajuste1 = opt.minimize(fun_obj, b01, args=(x,y,1))\n",
    "b02 = np.zeros(3)\n",
    "ajuste2 = opt.minimize(fun_obj, b02, args=(x,y,2))\n",
    "b03 = np.zeros(4)\n",
    "ajuste3 = opt.minimize(fun_obj, b03, args=(x,y,3))\n",
    "b10 = np.zeros(11)\n",
    "ajuste10 = opt.minimize(fun_obj, b10, args=(x,y,10))"
   ]
  },
  {
   "cell_type": "code",
   "execution_count": null,
   "metadata": {},
   "outputs": [],
   "source": []
  },
  {
   "cell_type": "code",
   "execution_count": 101,
   "metadata": {},
   "outputs": [
    {
     "data": {
      "text/plain": [
       "      fun: 0.10622159162224654\n",
       " hess_inv: array([[  215.70972734, -1082.01309594],\n",
       "       [-1082.01309594,  5427.70552265]])\n",
       "      jac: array([3.72529030e-09, 1.86264515e-09])\n",
       "  message: 'Optimization terminated successfully.'\n",
       "     nfev: 44\n",
       "      nit: 4\n",
       "     njev: 11\n",
       "   status: 0\n",
       "  success: True\n",
       "        x: array([-16.8043469 ,  85.53343465])"
      ]
     },
     "execution_count": 101,
     "metadata": {},
     "output_type": "execute_result"
    }
   ],
   "source": [
    "ajuste1"
   ]
  },
  {
   "cell_type": "code",
   "execution_count": 102,
   "metadata": {},
   "outputs": [
    {
     "data": {
      "text/plain": [
       "      fun: 0.10611923492837716\n",
       " hess_inv: array([[ 186.61955535, -865.76363439, -352.75154334],\n",
       "       [-865.76363439, 4016.70676702, 1636.37269481],\n",
       "       [-352.75154334, 1636.37269481,  667.80890296]])\n",
       "      jac: array([-1.15483999e-07,  1.17532909e-06, -2.92249024e-06])\n",
       "  message: 'Optimization terminated successfully.'\n",
       "     nfev: 55\n",
       "      nit: 4\n",
       "     njev: 11\n",
       "   status: 0\n",
       "  success: True\n",
       "        x: array([-15.61440584,  73.5881864 ,  29.97669811])"
      ]
     },
     "execution_count": 102,
     "metadata": {},
     "output_type": "execute_result"
    }
   ],
   "source": [
    "ajuste2"
   ]
  },
  {
   "cell_type": "code",
   "execution_count": 103,
   "metadata": {},
   "outputs": [
    {
     "data": {
      "text/plain": [
       "      fun: 0.10610226872375406\n",
       " hess_inv: array([[ 183.65115867, -848.15819839, -345.61024272, -104.12966233],\n",
       "       [-848.15819839, 3917.32268657, 1596.02584776,  480.88865434],\n",
       "       [-345.61024272, 1596.02584776,  651.42957357,  195.97674295],\n",
       "       [-104.12966233,  480.88865434,  195.97674295,   60.04847379]])\n",
       "      jac: array([-1.43423676e-07,  1.35041773e-06, -2.84425914e-06, -1.87195837e-06])\n",
       "  message: 'Optimization terminated successfully.'\n",
       "     nfev: 66\n",
       "      nit: 4\n",
       "     njev: 11\n",
       "   status: 0\n",
       "  success: True\n",
       "        x: array([-15.48799401,  72.67330777,  29.6066992 ,   8.91963637])"
      ]
     },
     "execution_count": 103,
     "metadata": {},
     "output_type": "execute_result"
    }
   ],
   "source": [
    "ajuste3"
   ]
  },
  {
   "cell_type": "code",
   "execution_count": 104,
   "metadata": {},
   "outputs": [
    {
     "data": {
      "text/plain": [
       "      fun: 0.10610026441759855\n",
       " hess_inv: array([[ 1.83398437e+02, -8.46777634e+02, -3.45049226e+02,\n",
       "        -1.03961250e+02, -2.77456524e+01, -6.93252549e+00,\n",
       "        -1.66208092e+00, -3.87314180e-01, -8.85760807e-02,\n",
       "        -2.00547208e-02, -4.59593350e-03],\n",
       "       [-8.46777634e+02,  3.90996140e+03,  1.59303331e+03,\n",
       "         4.79989875e+02,  1.28104335e+02,  3.20084994e+01,\n",
       "         7.67413256e+00,  1.78831031e+00,  4.08975909e-01,\n",
       "         9.25975205e-02,  2.12206070e-02],\n",
       "       [-3.45049226e+02,  1.59303331e+03,  6.50213045e+02,\n",
       "         1.95611373e+02,  5.22066321e+01,  1.30444887e+01,\n",
       "         3.12745430e+00,  7.28793528e-01,  1.66670721e-01,\n",
       "         3.77364389e-02,  8.64807269e-03],\n",
       "       [-1.03961250e+02,  4.79989875e+02,  1.95611373e+02,\n",
       "         5.99387405e+01,  1.57301321e+01,  3.93037255e+00,\n",
       "         9.42318263e-01,  2.19589276e-01,  5.02187528e-02,\n",
       "         1.13701845e-02,  2.60570904e-03],\n",
       "       [-2.77456524e+01,  1.28104335e+02,  5.22066321e+01,\n",
       "         1.57301321e+01,  5.19820711e+00,  1.04897513e+00,\n",
       "         2.51494835e-01,  5.86060676e-02,  1.34028566e-02,\n",
       "         3.03458254e-03,  6.95436304e-04],\n",
       "       [-6.93252549e+00,  3.20084994e+01,  1.30444887e+01,\n",
       "         3.93037255e+00,  1.04897513e+00,  1.26209969e+00,\n",
       "         6.28391622e-02,  1.46434663e-02,  3.34887300e-03,\n",
       "         7.58228771e-04,  1.73763542e-04],\n",
       "       [-1.66208092e+00,  7.67413256e+00,  3.12745430e+00,\n",
       "         9.42318263e-01,  2.51494835e-01,  6.28391622e-02,\n",
       "         1.01506587e+00,  3.51081348e-03,  8.02902001e-04,\n",
       "         1.81787543e-04,  4.16603120e-05],\n",
       "       [-3.87314180e-01,  1.78831031e+00,  7.28793528e-01,\n",
       "         2.19589276e-01,  5.86060676e-02,  1.46434663e-02,\n",
       "         3.51081348e-03,  1.00081813e+00,  1.87100970e-04,\n",
       "         4.23621133e-05,  9.70813964e-06],\n",
       "       [-8.85760807e-02,  4.08975909e-01,  1.66670721e-01,\n",
       "         5.02187528e-02,  1.34028566e-02,  3.34887300e-03,\n",
       "         8.02902001e-04,  1.87100970e-04,  1.00004279e+00,\n",
       "         9.68796133e-06,  2.22019333e-06],\n",
       "       [-2.00547208e-02,  9.25975205e-02,  3.77364389e-02,\n",
       "         1.13701845e-02,  3.03458254e-03,  7.58228771e-04,\n",
       "         1.81787543e-04,  4.23621133e-05,  9.68796133e-06,\n",
       "         1.00000219e+00,  5.02680882e-07],\n",
       "       [-4.59593350e-03,  2.12206070e-02,  8.64807269e-03,\n",
       "         2.60570904e-03,  6.95436304e-04,  1.73763542e-04,\n",
       "         4.16603120e-05,  9.70813964e-06,  2.22019333e-06,\n",
       "         5.02680882e-07,  1.00000012e+00]])\n",
       "      jac: array([-1.48080289e-07,  1.38487667e-06, -2.83308327e-06, -1.86916441e-06,\n",
       "       -7.70203769e-07, -2.62632966e-07, -8.00937414e-08, -2.51457095e-08,\n",
       "       -6.51925802e-09, -1.86264515e-09, -9.31322575e-10])\n",
       "  message: 'Optimization terminated successfully.'\n",
       "     nfev: 143\n",
       "      nit: 4\n",
       "     njev: 11\n",
       "   status: 0\n",
       "  success: True\n",
       "        x: array([-1.54771899e+01,  7.26051201e+01,  2.95790482e+01,  8.91135853e+00,\n",
       "        2.37822071e+00,  5.94209526e-01,  1.42460430e-01,  3.31971775e-02,\n",
       "        7.59190801e-03,  1.71889140e-03,  3.93915092e-04])"
      ]
     },
     "execution_count": 104,
     "metadata": {},
     "output_type": "execute_result"
    }
   ],
   "source": [
    "ajuste10"
   ]
  },
  {
   "cell_type": "code",
   "execution_count": 105,
   "metadata": {},
   "outputs": [],
   "source": [
    "xpoints = x*1e4\n",
    "ypoints = y*1e6\n",
    "yhat1 = (ajuste1.x[0]+ajuste1.x[1]*xpoints/(1e4))*1e6\n",
    "yhat2 = (ajuste2.x[0]+ajuste2.x[1]*xpoints/(1e4)+\n",
    "         ajuste2.x[2]*(xpoints/(1e4))**2)*1e6\n",
    "yhat3 = (ajuste3.x[0]+ajuste3.x[1]*xpoints/(1e4)+\n",
    "         ajuste3.x[2]*(xpoints/(1e4))**2+\n",
    "         ajuste3.x[3]*(xpoints/(1e4))**3)*1e6\n",
    "yhat10 = (ajuste10.x[0]+ajuste10.x[1]*xpoints/(1e4)+\n",
    "         ajuste10.x[2]*(xpoints/(1e4))**2+\n",
    "         ajuste10.x[3]*(xpoints/(1e4))**3+\n",
    "         ajuste10.x[4]*(xpoints/(1e4))**4+\n",
    "         ajuste10.x[5]*(xpoints/(1e4))**5+\n",
    "         ajuste10.x[6]*(xpoints/(1e4))**6+\n",
    "         ajuste10.x[7]*(xpoints/(1e4))**7+\n",
    "         ajuste10.x[8]*(xpoints/(1e4))**8+\n",
    "         ajuste10.x[9]*(xpoints/(1e4))**9+\n",
    "         ajuste10.x[10]*(xpoints/(1e4))**10)*1e6"
   ]
  },
  {
   "cell_type": "code",
   "execution_count": 106,
   "metadata": {},
   "outputs": [],
   "source": [
    "import matplotlib.pyplot as plt"
   ]
  },
  {
   "cell_type": "code",
   "execution_count": 107,
   "metadata": {},
   "outputs": [
    {
     "data": {
      "text/plain": [
       "<matplotlib.legend.Legend at 0x295bce366d8>"
      ]
     },
     "execution_count": 107,
     "metadata": {},
     "output_type": "execute_result"
    },
    {
     "data": {
      "image/png": "[encoded data removed]",
      "text/plain": [
       "<Figure size 576x432 with 1 Axes>"
      ]
     },
     "metadata": {},
     "output_type": "display_data"
    }
   ],
   "source": [
    "plt.figure(figsize=(8,6))\n",
    "plt.plot(xpoints, ypoints, 'r*', ms=5, label='Datos')\n",
    "plt.plot(xpoints, yhat1, 'b', lw=2, label='Ajuste 1')\n",
    "plt.plot(xpoints, yhat2, 'k', lw=2, label='Ajuste 2')\n",
    "plt.plot(xpoints, yhat3, 'g', lw=2, label='Ajuste 3')\n",
    "plt.plot(xpoints, yhat10, 'y', lw=2, label='Ajuste 10')\n",
    "plt.grid()\n",
    "plt.xlabel('Años')\n",
    "plt.ylabel('Población (miles de personas)')\n",
    "plt.legend(loc='best')"
   ]
  },
  {
   "cell_type": "code",
   "execution_count": 108,
   "metadata": {},
   "outputs": [
    {
     "data": {
      "text/plain": [
       "Text(0,0.5,'error')"
      ]
     },
     "execution_count": 108,
     "metadata": {},
     "output_type": "execute_result"
    },
    {
     "data": {
      "image/png": "[encoded data removed]",
      "text/plain": [
       "<Figure size 576x432 with 1 Axes>"
      ]
     },
     "metadata": {},
     "output_type": "display_data"
    }
   ],
   "source": [
    "error = [ajuste1.fun, ajuste2.fun, ajuste3.fun,ajuste10.fun]\n",
    "plt.figure(figsize=(8,6))\n",
    "plt.plot(range(1,5), error, 'ro', ms=5)\n",
    "plt.xlabel('Orden del polinomio')\n",
    "plt.ylabel('error')"
   ]
  },
  {
   "cell_type": "markdown",
   "metadata": {},
   "source": [
    "##### El polinomio que mejor funciona es el de grado 3"
   ]
  },
  {
   "cell_type": "markdown",
   "metadata": {},
   "source": [
    "###### Los siguientes ajustes estiman los pasajeros para los años 2016 y 2017 respectivamente ."
   ]
  },
  {
   "cell_type": "code",
   "execution_count": 111,
   "metadata": {},
   "outputs": [
    {
     "data": {
      "text/plain": [
       "439320.27891170053"
      ]
     },
     "execution_count": 111,
     "metadata": {},
     "output_type": "execute_result"
    }
   ],
   "source": [
    "yhat3 = (ajuste3.x[0]+ajuste3.x[1]*2016/(1e4)+\n",
    "         ajuste3.x[2]*(2016/(1e4))**2+\n",
    "         ajuste3.x[3]*(2016/(1e4))**3)*1e6\n",
    "\n",
    "yhat3"
   ]
  },
  {
   "cell_type": "code",
   "execution_count": 112,
   "metadata": {},
   "outputs": [
    {
     "data": {
      "text/plain": [
       "447890.4568789611"
      ]
     },
     "execution_count": 112,
     "metadata": {},
     "output_type": "execute_result"
    }
   ],
   "source": [
    "yhat3 = (ajuste3.x[0]+ajuste3.x[1]*2017/(1e4)+\n",
    "         ajuste3.x[2]*(2017/(1e4))**2+\n",
    "         ajuste3.x[3]*(2017/(1e4))**3)*1e6\n",
    "\n",
    "yhat3"
   ]
  },
  {
   "cell_type": "markdown",
   "metadata": {},
   "source": [
    "#### Referencias\n",
    "\n",
    "##### Clase 4:  Optimización de funciones escalares diferenciables con SymPy.\n",
    "##### Clase 6: Ajuste de curvas.\n",
    "###### World Bank group . (2018). Air transport, registered carrier departures worldwide. 23/09/2018, de World Bank group Sitio web: https://data.worldbank.org/indicator/IS.AIR.DPRT"
   ]
  },
  {
   "cell_type": "code",
   "execution_count": null,
   "metadata": {},
   "outputs": [],
   "source": []
  }
 ],
 "metadata": {
  "anaconda-cloud": {},
  "kernelspec": {
   "display_name": "Python 3",
   "language": "python",
   "name": "python3"
  },
  "language_info": {
   "codemirror_mode": {
    "name": "ipython",
    "version": 3
   },
   "file_extension": ".py",
   "mimetype": "text/x-python",
   "name": "python",
   "nbconvert_exporter": "python",
   "pygments_lexer": "ipython3",
   "version": "3.6.5"
  }
 },
 "nbformat": 4,
 "nbformat_minor": 1
}
